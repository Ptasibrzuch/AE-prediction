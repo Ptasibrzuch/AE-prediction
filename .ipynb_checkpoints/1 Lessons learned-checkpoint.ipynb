{
 "cells": [
  {
   "cell_type": "markdown",
   "id": "eac33e4e",
   "metadata": {},
   "source": [
    "# Loading huge datasets "
   ]
  },
  {
   "cell_type": "markdown",
   "id": "bc0069d8",
   "metadata": {},
   "source": [
    "1. Use pickle format, but its not the best solution for largest datasets. And it is unsafe!\n",
    "<br>\n",
    "<br>\n",
    "2. If dataset is gigantic use parquet( it is normally supported by pandas library).\n",
    "<br>\n",
    "<br>\n",
    "3. Sometimes there is artificial noise added to the data. The purpose may vary, it can prevent rounding up values that should not be rounded up.\n",
    "<br>\n",
    "<br>\n",
    "4. To spot this noise one should look at the distribution of fractial part of numbers.\n",
    "<br>\n",
    "<br>\n",
    "5. If uniform noise is spotted, precision can be lowered and some floats may actually be integers, work has to be done to identify those:\n",
    "    - https://www.kaggle.com/code/raddar/amex-data-int-types-train\n",
    "\n"
   ]
  },
  {
   "cell_type": "code",
   "execution_count": null,
   "id": "ec2000eb",
   "metadata": {},
   "outputs": [],
   "source": []
  }
 ],
 "metadata": {
  "hide_input": false,
  "kernelspec": {
   "display_name": "Python 3 (ipykernel)",
   "language": "python",
   "name": "python3"
  },
  "language_info": {
   "codemirror_mode": {
    "name": "ipython",
    "version": 3
   },
   "file_extension": ".py",
   "mimetype": "text/x-python",
   "name": "python",
   "nbconvert_exporter": "python",
   "pygments_lexer": "ipython3",
   "version": "3.9.7"
  },
  "toc": {
   "base_numbering": 1,
   "nav_menu": {},
   "number_sections": true,
   "sideBar": true,
   "skip_h1_title": false,
   "title_cell": "Table of Contents",
   "title_sidebar": "Contents",
   "toc_cell": false,
   "toc_position": {},
   "toc_section_display": true,
   "toc_window_display": false
  }
 },
 "nbformat": 4,
 "nbformat_minor": 5
}

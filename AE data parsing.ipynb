{
 "cells": [
  {
   "cell_type": "code",
   "execution_count": null,
   "id": "0d0cb588",
   "metadata": {},
   "outputs": [],
   "source": [
    "from libs import *"
   ]
  },
  {
   "cell_type": "code",
   "execution_count": null,
   "id": "1e14e023",
   "metadata": {},
   "outputs": [],
   "source": [
    "path_train = r'C:\\Users\\domin\\Downloads\\amex-default-prediction\\test_data.csv'\n",
    "path_parqs = r'C:\\Users\\domin\\Downloads\\parq_data\\test.parquet'"
   ]
  },
  {
   "cell_type": "code",
   "execution_count": null,
   "id": "20fe7d79",
   "metadata": {},
   "outputs": [],
   "source": [
    "categorical_variables = ['B_30', 'B_38', 'D_114', 'D_116', 'D_117', 'D_120', 'D_126', 'D_63', 'D_64', 'D_66', 'D_68', 'target']"
   ]
  },
  {
   "cell_type": "code",
   "execution_count": null,
   "id": "11c6c036",
   "metadata": {},
   "outputs": [],
   "source": [
    "def reduce_memory_usage(df, chunk=None):\n",
    "    start_mem = df.memory_usage().sum() / 1024 ** 2\n",
    "    print(\"Initial Memory chunk: {:.3f}\".format(start_mem))\n",
    "    for col in df.columns:\n",
    "        type_ = df[col].dtype\n",
    "        if str(type_) != \"object\":\n",
    "            if str(type_)[:3] == \"int\":\n",
    "                df[col] = df[col].astype(np.int8)\n",
    "            else:\n",
    "                df[col] = df[col].astype(np.float16)\n",
    "        else:\n",
    "            df[col] = df[col].astype(\"category\")   \n",
    "    end_mem = df.memory_usage().sum() / 1024 ** 2\n",
    "    print(\"Final Memory chunk: {:.3f}\".format(end_mem))\n",
    "    print(\"Reduced by: {:.2f}\".format((start_mem - end_mem) / start_mem))\n",
    "    return df\n",
    "chunksize=1.5*(10**5)\n",
    "train_df = pd.DataFrame()\n",
    "with pd.read_csv(r'C:\\Users\\domin\\Downloads\\amex-default-prediction\\test_data.csv', chunksize=chunksize) as reader:\n",
    "    counter=0\n",
    "    for chunk in tqdm(reader):\n",
    "        print(counter, flush=True)\n",
    "        chunk=reduce_memory_usage(chunk)\n",
    "        train_df = pd.concat([train_df, chunk])\n",
    "        counter+=1\n",
    "#labels=pd.read_csv(r'C:\\Users\\domin\\Downloads\\amex-default-prediction\\train_labels.csv')\n",
    "#labels=reduce_memory_usage(labels)\n",
    "#train_df=pd.merge(train_df, labels, on='customer_ID')\n",
    "train_df.to_pickle(r'C:\\Users\\domin\\Downloads\\AE_pickled\\test.pkl')\n",
    "del train_df\n",
    "gc.collect()"
   ]
  },
  {
   "cell_type": "code",
   "execution_count": null,
   "id": "367bba24",
   "metadata": {},
   "outputs": [],
   "source": []
  }
 ],
 "metadata": {
  "hide_input": false,
  "kernelspec": {
   "display_name": "Python 3 (ipykernel)",
   "language": "python",
   "name": "python3"
  },
  "language_info": {
   "codemirror_mode": {
    "name": "ipython",
    "version": 3
   },
   "file_extension": ".py",
   "mimetype": "text/x-python",
   "name": "python",
   "nbconvert_exporter": "python",
   "pygments_lexer": "ipython3",
   "version": "3.9.7"
  },
  "toc": {
   "base_numbering": 1,
   "nav_menu": {},
   "number_sections": true,
   "sideBar": true,
   "skip_h1_title": false,
   "title_cell": "Table of Contents",
   "title_sidebar": "Contents",
   "toc_cell": false,
   "toc_position": {},
   "toc_section_display": true,
   "toc_window_display": false
  }
 },
 "nbformat": 4,
 "nbformat_minor": 5
}

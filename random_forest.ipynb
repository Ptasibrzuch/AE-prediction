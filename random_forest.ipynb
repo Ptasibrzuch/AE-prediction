{
 "cells": [
  {
   "cell_type": "code",
   "execution_count": 1,
   "id": "85c47b29",
   "metadata": {
    "ExecuteTime": {
     "end_time": "2022-08-13T08:56:24.029141Z",
     "start_time": "2022-08-13T08:56:21.991971Z"
    }
   },
   "outputs": [],
   "source": [
    "from sklearn.ensemble import RandomForestClassifier\n",
    "from sklearn.model_selection import StratifiedKFold\n",
    "import pandas as pd\n",
    "import numpy as np\n",
    "from sklearn.metrics import log_loss\n",
    "import optuna\n",
    "from sklearn.preprocessing import LabelEncoder\n",
    "from sklearn.metrics import roc_auc_score, roc_curve, auc, log_loss"
   ]
  },
  {
   "cell_type": "code",
   "execution_count": 2,
   "id": "88234fd2",
   "metadata": {
    "ExecuteTime": {
     "end_time": "2022-08-13T08:56:24.235632Z",
     "start_time": "2022-08-13T08:56:24.034622Z"
    }
   },
   "outputs": [],
   "source": [
    "X = pd.read_pickle(r'C:\\Users\\domin\\Documents\\ML projects\\AE-prediction\\train_v2.pkl')"
   ]
  },
  {
   "cell_type": "code",
   "execution_count": 3,
   "id": "38201c66",
   "metadata": {
    "ExecuteTime": {
     "end_time": "2022-08-13T08:56:24.848272Z",
     "start_time": "2022-08-13T08:56:24.236634Z"
    }
   },
   "outputs": [],
   "source": [
    "enc = LabelEncoder()\n",
    "for col in ['B_30', 'B_38', 'D_114', 'D_116', 'D_117', 'D_120', 'D_126', 'D_63', 'D_64', 'D_66', 'D_68']:\n",
    "    try:\n",
    "        X[col] = enc.fit_transform(X[col])\n",
    "    except:\n",
    "        pass\n",
    "    try:\n",
    "        test[col] = enc.transform(test[col])\n",
    "    except:\n",
    "        pass\n",
    "X = X.fillna(-1)\n",
    "y = X['target']\n",
    "X = X.drop(['target'],axis=1)"
   ]
  },
  {
   "cell_type": "code",
   "execution_count": 4,
   "id": "744e79c0",
   "metadata": {
    "ExecuteTime": {
     "end_time": "2022-08-13T08:56:24.863753Z",
     "start_time": "2022-08-13T08:56:24.849256Z"
    }
   },
   "outputs": [
    {
     "name": "stdout",
     "output_type": "stream",
     "text": [
      "Shape of X: (458913, 161)\n",
      "Shape of y: (458913,)\n"
     ]
    }
   ],
   "source": [
    "print('Shape of X: ' + str(X.shape))\n",
    "print('Shape of y: ' + str(y.shape))"
   ]
  },
  {
   "cell_type": "code",
   "execution_count": 5,
   "id": "d54a39b3",
   "metadata": {
    "ExecuteTime": {
     "end_time": "2022-08-13T07:16:49.819861Z",
     "start_time": "2022-08-13T07:16:49.648341Z"
    }
   },
   "outputs": [],
   "source": [
    "def objective(trial, X, y):\n",
    "    param_grid = {\n",
    "        #'criterion' : trial.suggest_categorical('criterion', ['gini', 'entropy']),\n",
    "        #'bootstrap' : trial.suggest_categorical('bootstrap',['True','False']),\n",
    "        'n_estimators' : trial.suggest_int(\"n_estimators\", 100, 1400, step=100),\n",
    "        'max_depth' : trial.suggest_int(\"max_depth\", 3, 12),\n",
    "        'min_samples_split' : trial.suggest_int(\"min_samples_split\", 200, 1000, step=100),\n",
    "        'min_samples_leaf' : trial.suggest_int(\"min_samples_leaf\", 200, 1000, step=100),\n",
    "        'max_features' : trial.suggest_categorical(\"max_features\", ['sqrt', 'log2', None])    \n",
    "    }\n",
    "    \n",
    "    cv = StratifiedKFold(n_splits=10, shuffle=True, random_state=42)\n",
    "    cv_scores = np.empty(10)\n",
    "    \n",
    "    for idx, (train_idx, test_idx) in enumerate(cv.split(X, y)):\n",
    "        X_train, X_test = X.iloc[train_idx], X.iloc[test_idx]\n",
    "        y_train, y_test = y[train_idx], y[test_idx]\n",
    "\n",
    "        model = RandomForestClassifier(random_state=0, **param_grid)\n",
    "        model.fit(\n",
    "            X_train,\n",
    "            y_train)\n",
    "        \n",
    "        preds = model.predict_proba(X_test)\n",
    "        cv_scores[idx] = log_loss(y_test, preds)\n",
    "    return np.mean(cv_scores)"
   ]
  },
  {
   "cell_type": "code",
   "execution_count": null,
   "id": "b0fdea32",
   "metadata": {
    "ExecuteTime": {
     "start_time": "2022-08-13T07:16:33.315Z"
    },
    "scrolled": false
   },
   "outputs": [
    {
     "name": "stderr",
     "output_type": "stream",
     "text": [
      "\u001b[32m[I 2022-08-13 09:16:49,854]\u001b[0m A new study created in memory with name: RF classifier\u001b[0m\n"
     ]
    }
   ],
   "source": [
    "study = optuna.create_study(direction=\"minimize\", study_name=\"RF classifier\")\n",
    "func = lambda trial: objective(trial, X, y)\n",
    "study.optimize(func, n_trials=100)"
   ]
  },
  {
   "cell_type": "code",
   "execution_count": null,
   "id": "37f7c132",
   "metadata": {
    "ExecuteTime": {
     "start_time": "2022-08-13T07:16:33.851Z"
    }
   },
   "outputs": [],
   "source": [
    "print(f\"\\tBest value (rmse): {study.best_value:.5f}\")\n",
    "print(f\"\\tBest params:\")\n",
    "for key, value in study.best_params.items():\n",
    "    print(f\"\\t\\t{key}: {value}\")"
   ]
  },
  {
   "cell_type": "code",
   "execution_count": 7,
   "id": "53744d27",
   "metadata": {
    "ExecuteTime": {
     "end_time": "2022-08-13T11:54:55.255668Z",
     "start_time": "2022-08-13T11:40:02.100324Z"
    }
   },
   "outputs": [
    {
     "name": "stdout",
     "output_type": "stream",
     "text": [
      "0.2820662001765465\n"
     ]
    }
   ],
   "source": [
    "from sklearn.model_selection import train_test_split\n",
    "X_train, X_test, y_train, y_test = train_test_split(X, y, test_size=0.33, random_state=42)\n",
    "param_grid = {\n",
    "        #'criterion' : trial.suggest_categorical('criterion', ['gini', 'entropy']),\n",
    "        #'bootstrap' : trial.suggest_categorical('bootstrap',['True','False']),\n",
    "        'n_estimators' : 1200,\n",
    "        'max_depth' : 4,\n",
    "       # 'min_samples_split' : 300,\n",
    "       # 'min_samples_leaf' : 150,\n",
    "       # 'max_features' : None\n",
    "    }\n",
    "\n",
    "model = RandomForestClassifier(random_state=0, **param_grid)\n",
    "model.fit(\n",
    "            X_train,\n",
    "            y_train)\n",
    "preds = model.predict_proba(X_test)\n",
    "print(log_loss(y_test, preds))"
   ]
  },
  {
   "cell_type": "code",
   "execution_count": null,
   "id": "74fa6f81",
   "metadata": {},
   "outputs": [],
   "source": []
  }
 ],
 "metadata": {
  "hide_input": false,
  "kernelspec": {
   "display_name": "Python 3 (ipykernel)",
   "language": "python",
   "name": "python3"
  },
  "language_info": {
   "codemirror_mode": {
    "name": "ipython",
    "version": 3
   },
   "file_extension": ".py",
   "mimetype": "text/x-python",
   "name": "python",
   "nbconvert_exporter": "python",
   "pygments_lexer": "ipython3",
   "version": "3.9.7"
  },
  "toc": {
   "base_numbering": 1,
   "nav_menu": {},
   "number_sections": true,
   "sideBar": true,
   "skip_h1_title": false,
   "title_cell": "Table of Contents",
   "title_sidebar": "Contents",
   "toc_cell": false,
   "toc_position": {},
   "toc_section_display": true,
   "toc_window_display": false
  }
 },
 "nbformat": 4,
 "nbformat_minor": 5
}

{
 "cells": [
  {
   "cell_type": "markdown",
   "id": "51db0fc0",
   "metadata": {},
   "source": [
    "# AE project lessons learned"
   ]
  },
  {
   "cell_type": "markdown",
   "id": "31bc0636",
   "metadata": {},
   "source": [
    "This documents is a very brief summary of things I learned during the AE competition on kaggle. As I never worked with such dataset it was a lot of new things and fun, but also RAM related frustration! :P"
   ]
  },
  {
   "cell_type": "markdown",
   "id": "f17fff2d",
   "metadata": {},
   "source": [
    "## Loading huge datasets "
   ]
  },
  {
   "cell_type": "markdown",
   "id": "0c117728",
   "metadata": {},
   "source": [
    "1. Use pickle format, but its not the best solution for largest datasets. And it is unsafe!\n",
    "<br>\n",
    "<br>\n",
    "2. If dataset is gigantic use parquet( it is normally supported by pandas library).\n",
    "<br>\n",
    "<br>\n",
    "3. Sometimes there is artificial noise added to the data. The purpose may vary. For instance it can prevent rounding up values that should not be rounded up.\n",
    "<br>\n",
    "<br>\n",
    "4. To spot this noise one should look at the distribution of fractial part of numbers.\n",
    "<br>\n",
    "<br>\n",
    "5. If uniform noise is spotted, precision can be lowered and some floats may actually be integers, work has to be done to identify those:\n",
    "    - https://www.kaggle.com/code/raddar/amex-data-int-types-train\n",
    "<br>\n",
    "<br>\n",
    "6. Thats great, but.... feature engineering, and working with product of so is still a huge RAM killer. The solution requires two things:\n",
    "    - NVIDIA GPU with CUDA\n",
    "    - linux operating system\n",
    "    \n",
    "If you have both, install RAPIDS CUDF, CUPY libraries. They allow you to process data on GPU instead of RAM, which is much more efficient. CUDF is basicly pandas on GPU.Link:\n",
    "    https://www.kaggle.com/code/jiweiliu/rapids-cudf-feature-engineering-xgb\n",
    " <br>\n",
    "<br>   "
   ]
  },
  {
   "cell_type": "markdown",
   "id": "5a4ea539",
   "metadata": {},
   "source": [
    "## Modelling challanges in AE"
   ]
  },
  {
   "cell_type": "code",
   "execution_count": null,
   "id": "b61e6c4b",
   "metadata": {},
   "outputs": [],
   "source": []
  },
  {
   "cell_type": "markdown",
   "id": "3a95c956",
   "metadata": {},
   "source": [
    "## LGBM and OPTUNA"
   ]
  },
  {
   "cell_type": "code",
   "execution_count": null,
   "id": "8df12190",
   "metadata": {},
   "outputs": [],
   "source": []
  }
 ],
 "metadata": {
  "hide_input": false,
  "kernelspec": {
   "display_name": "Python 3 (ipykernel)",
   "language": "python",
   "name": "python3"
  },
  "language_info": {
   "codemirror_mode": {
    "name": "ipython",
    "version": 3
   },
   "file_extension": ".py",
   "mimetype": "text/x-python",
   "name": "python",
   "nbconvert_exporter": "python",
   "pygments_lexer": "ipython3",
   "version": "3.9.7"
  },
  "toc": {
   "base_numbering": 1,
   "nav_menu": {},
   "number_sections": true,
   "sideBar": true,
   "skip_h1_title": false,
   "title_cell": "Table of Contents",
   "title_sidebar": "Contents",
   "toc_cell": false,
   "toc_position": {},
   "toc_section_display": true,
   "toc_window_display": false
  }
 },
 "nbformat": 4,
 "nbformat_minor": 5
}
